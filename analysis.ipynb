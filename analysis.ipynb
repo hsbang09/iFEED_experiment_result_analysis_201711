{
 "cells": [
  {
   "cell_type": "code",
   "execution_count": 4,
   "metadata": {
    "collapsed": false
   },
   "outputs": [],
   "source": [
    "import numpy as np\n",
    "import importlib\n",
    "from matplotlib import pyplot as plt\n",
    "import pandas as pd\n",
    "import analysis\n",
    "importlib.reload(analysis)\n",
    "%matplotlib inline"
   ]
  },
  {
   "cell_type": "code",
   "execution_count": 5,
   "metadata": {
    "collapsed": false,
    "scrolled": false
   },
   "outputs": [
    {
     "name": "stdout",
     "output_type": "stream",
     "text": [
      "netID: jef283, keyNum: 123123123, First condition score: 16, Second condition score: 19\n",
      "netID: krk66, keyNum: 4340870324, First condition score: 16, Second condition score: 22\n",
      "netID: atf39, keyNum: Coverage and specificity, First condition score: 12, Second condition score: 15\n",
      "netID: lm573, keyNum: None, First condition score: 19, Second condition score: 17\n",
      "netID: mac389, keyNum: 3306569930, First condition score: 20, Second condition score: 19\n",
      "netID: sp2274, keyNum: 4334445073, First condition score: 21, Second condition score: 19\n",
      "netID: hgp8, keyNum: 64402823, First condition score: 17, Second condition score: 16\n",
      "netID: kpd43, keyNum: 3137288120, First condition score: 17, Second condition score: 22\n",
      "netID: gwp37, keyNum: 2620672040, First condition score: 16, Second condition score: 22\n",
      "netID: hw585, keyNum: 2133534586, First condition score: 15, Second condition score: 20\n",
      "netID: jc2367, keyNum: 9191698327, First condition score: 17, Second condition score: 20\n",
      "netID: yk724, keyNum: yk724, First condition score: 24, Second condition score: 18\n",
      "netID: bap224, keyNum: 5371946331, First condition score: 15, Second condition score: 20\n",
      "netID: mam545, keyNum: 9098178254, First condition score: 21, Second condition score: 21\n",
      "netID: amc578, keyNum: 69776412, First condition score: 17, Second condition score: 19\n",
      "netID: sb997, keyNum: 8500084894, First condition score: 22, Second condition score: 20\n",
      "netID: jk2297, keyNum: 3875682746, First condition score: 18, Second condition score: 18\n",
      "netID: ma2257, keyNum: 9258315966, First condition score: 18, Second condition score: 19\n",
      "netID: ic255, keyNum: 1951642000, First condition score: 16, Second condition score: 18\n",
      "netID: yk734, keyNum: 6565205741, First condition score: 21, Second condition score: 21\n",
      "netID: emd88, keyNum: 6065280933, First condition score: 23, Second condition score: 15\n",
      "netID: kd439, keyNum: kd439, First condition score: 19, Second condition score: 20\n",
      "netID: bsr65, keyNum: 1275213599, First condition score: 17, Second condition score: 21\n",
      "netID: sc2524, keyNum: 2521704359, First condition score: 21, Second condition score: 17\n",
      "netID: lsl83, keyNum: 9645975744, First condition score: 22, Second condition score: 19\n",
      "netID: ejs348, keyNum: 9031693318, First condition score: 20, Second condition score: 17\n",
      "netID: bk483, keyNum: 3514699334, First condition score: 18, Second condition score: 18\n",
      "netID: dnd37, keyNum: 9826509423, First condition score: 17, Second condition score: 23\n",
      "netID: lsc94, keyNum: None, First condition score: 13, Second condition score: 11\n",
      "netID: hrd24, keyNum: 4022934325, First condition score: 21, Second condition score: 22\n",
      "netID: dk775, keyNum: 8013804199, First condition score: 16, Second condition score: 23\n",
      "Total 31 subject data added out of 40\n"
     ]
    }
   ],
   "source": [
    "analyzer = analysis.ResultAnalyzer()\n",
    "analyzer.readData()"
   ]
  },
  {
   "cell_type": "code",
   "execution_count": 6,
   "metadata": {
    "collapsed": true
   },
   "outputs": [],
   "source": [
    "def plotBarGraph(mean1, stdev1, mean2, stdev2):\n",
    "\n",
    "    N = 2\n",
    "    ind = np.arange(N)  # the x locations for the groups\n",
    "    width = 0.35       # the width of the bars\n",
    "\n",
    "    means = (mean1, mean2)\n",
    "    stdevs = (stdev1, stdev2)\n",
    "\n",
    "    fig, ax = plt.subplots()\n",
    "    rects1 = ax.bar(ind, means, width, color='r', yerr=stdevs)\n",
    "\n",
    "    # add some text for labels, title and axes ticks\n",
    "    ax.set_ylabel('Scores')\n",
    "    ax.set_title('Scores')\n",
    "    ax.set_xticks(ind + width / 2)\n",
    "    ax.set_xticklabels(('1', '2'))\n",
    "\n",
    "    #ax.legend((rects1[0], rects2[0]), ('Men', 'Women'))\n",
    "\n",
    "    plt.show()"
   ]
  },
  {
   "cell_type": "code",
   "execution_count": 7,
   "metadata": {
    "collapsed": true
   },
   "outputs": [],
   "source": [
    "def plotECDF(scores1,scores2):\n",
    "    \n",
    "    import statsmodels.api as sm # recommended import according to the docs\n",
    "\n",
    "    sample = scores1\n",
    "    ecdf = sm.distributions.ECDF(scores1)\n",
    "    x = np.linspace(min(sample), max(sample))\n",
    "    y = ecdf(x)\n",
    "    plt.step(x, y)\n",
    "\n",
    "    sample2 = scores2\n",
    "    ecdf = sm.distributions.ECDF(sample2)\n",
    "    x = np.linspace(min(sample2), max(sample2))\n",
    "    y = ecdf(x)\n",
    "    plt.step(x, y)\n",
    "\n",
    "    plt.show()"
   ]
  },
  {
   "cell_type": "code",
   "execution_count": 8,
   "metadata": {
    "collapsed": true
   },
   "outputs": [],
   "source": [
    "def writeToFile(data, header ,filePath = \"/Users/bang/workspace/iFEED-experiment-201711-result/data/data.csv\"):\n",
    "    with open(filePath, 'w') as f:\n",
    "        f.write(header + \"\\n\")\n",
    "        for row in data:\n",
    "            f.write(\",\".join(row) + \"\\n\")\n",
    "    "
   ]
  },
  {
   "cell_type": "markdown",
   "metadata": {},
   "source": [
    "## All subjects"
   ]
  },
  {
   "cell_type": "code",
   "execution_count": 9,
   "metadata": {
    "collapsed": false
   },
   "outputs": [
    {
     "data": {
      "text/plain": [
       "31"
      ]
     },
     "execution_count": 9,
     "metadata": {},
     "output_type": "execute_result"
    }
   ],
   "source": [
    "subjects = analyzer.results\n",
    "len(subjects)"
   ]
  },
  {
   "cell_type": "code",
   "execution_count": 10,
   "metadata": {
    "collapsed": false,
    "scrolled": true
   },
   "outputs": [
    {
     "name": "stdout",
     "output_type": "stream",
     "text": [
      "First Condition Score Mean: 18.225806451612904, Second Condition Score Mean: 19.06451612903226\n",
      "First Condition Score Stdev: 2.847859155399128, Second Condition Score Stdev: 2.5770135737743547\n"
     ]
    },
    {
     "data": {
      "image/png": "[encoded data removed]",
      "text/plain": [
       "<matplotlib.figure.Figure at 0x10e772ef0>"
      ]
     },
     "metadata": {},
     "output_type": "display_data"
    }
   ],
   "source": [
    "m1,m2,s1,s2 = analyzer.printStatistics(subjects)\n",
    "plotBarGraph(m1,s1,m2,s2)"
   ]
  },
  {
   "cell_type": "code",
   "execution_count": 11,
   "metadata": {
    "collapsed": false
   },
   "outputs": [
    {
     "data": {
      "image/png": "[encoded data removed]",
      "text/plain": [
       "<matplotlib.figure.Figure at 0x10e835eb8>"
      ]
     },
     "metadata": {},
     "output_type": "display_data"
    }
   ],
   "source": [
    "f1,f2 = analyzer.getScoreData(subjects)\n",
    "data = [[str(x),str(y)] for x,y in zip(f1,f2)]\n",
    "writeToFile(data, header=\"First condition, Second condition\")\n",
    "plotECDF(f1,f2)"
   ]
  },
  {
   "cell_type": "markdown",
   "metadata": {},
   "source": [
    "## All subjects - ordering"
   ]
  },
  {
   "cell_type": "code",
   "execution_count": 12,
   "metadata": {
    "collapsed": false
   },
   "outputs": [
    {
     "data": {
      "text/plain": [
       "31"
      ]
     },
     "execution_count": 12,
     "metadata": {},
     "output_type": "execute_result"
    }
   ],
   "source": [
    "subjects_ordering = analyzer.results\n",
    "len(subjects_ordering)"
   ]
  },
  {
   "cell_type": "code",
   "execution_count": 13,
   "metadata": {
    "collapsed": false
   },
   "outputs": [
    {
     "name": "stdout",
     "output_type": "stream",
     "text": [
      "First Task Score Mean: 18.161290322580644, Second Task Score Mean: 19.129032258064516\n",
      "First Task Score Stdev: 2.885970225334844, Second Task Score Stdev: 2.511161349164976\n"
     ]
    },
    {
     "data": {
      "image/png": "[encoded data removed]",
      "text/plain": [
       "<matplotlib.figure.Figure at 0x10e772a20>"
      ]
     },
     "metadata": {},
     "output_type": "display_data"
    }
   ],
   "source": [
    "m1,m2,s1,s2 = analyzer.printStatistics(subjects_ordering, order_effect=True)\n",
    "plotBarGraph(m1,s1,m2,s2)"
   ]
  },
  {
   "cell_type": "code",
   "execution_count": 14,
   "metadata": {
    "collapsed": false
   },
   "outputs": [
    {
     "data": {
      "image/png": "[encoded data removed]",
      "text/plain": [
       "<matplotlib.figure.Figure at 0x10e825cf8>"
      ]
     },
     "metadata": {},
     "output_type": "display_data"
    }
   ],
   "source": [
    "f1,f2 = analyzer.getScoreData(subjects_ordering)\n",
    "data = [[str(x),str(y)] for x,y in zip(f1,f2)]\n",
    "writeToFile(data, header=\"First Task, Second Task\")\n",
    "plotECDF(f1,f2)"
   ]
  },
  {
   "cell_type": "markdown",
   "metadata": {},
   "source": [
    "## STEM majors"
   ]
  },
  {
   "cell_type": "code",
   "execution_count": 15,
   "metadata": {
    "collapsed": false
   },
   "outputs": [
    {
     "data": {
      "text/plain": [
       "24"
      ]
     },
     "execution_count": 15,
     "metadata": {},
     "output_type": "execute_result"
    }
   ],
   "source": [
    "STEM_majors = analyzer.filterByDemographics(STEM=True)\n",
    "len(STEM_majors)"
   ]
  },
  {
   "cell_type": "code",
   "execution_count": 16,
   "metadata": {
    "collapsed": false
   },
   "outputs": [
    {
     "name": "stdout",
     "output_type": "stream",
     "text": [
      "First Condition Score Mean: 18.833333333333332, Second Condition Score Mean: 19.75\n",
      "First Condition Score Stdev: 2.592724864350674, Second Condition Score Stdev: 2.0463381929681126\n"
     ]
    },
    {
     "data": {
      "image/png": "[encoded data removed]",
      "text/plain": [
       "<matplotlib.figure.Figure at 0x111275ac8>"
      ]
     },
     "metadata": {},
     "output_type": "display_data"
    }
   ],
   "source": [
    "m1,m2,s1,s2 = analyzer.printStatistics(STEM_majors)\n",
    "plotBarGraph(m1,s1,m2,s2)"
   ]
  },
  {
   "cell_type": "markdown",
   "metadata": {},
   "source": [
    "## Identified as having prior experience"
   ]
  },
  {
   "cell_type": "code",
   "execution_count": 17,
   "metadata": {
    "collapsed": false
   },
   "outputs": [
    {
     "data": {
      "text/plain": [
       "10"
      ]
     },
     "execution_count": 17,
     "metadata": {},
     "output_type": "execute_result"
    }
   ],
   "source": [
    "subjects_with_prior_experience = analyzer.filterByDemographics(prior_experience=True)\n",
    "len(subjects_with_prior_experience)"
   ]
  },
  {
   "cell_type": "code",
   "execution_count": 18,
   "metadata": {
    "collapsed": false
   },
   "outputs": [
    {
     "name": "stdout",
     "output_type": "stream",
     "text": [
      "First Condition Score Mean: 17.1, Second Condition Score Mean: 20.6\n",
      "First Condition Score Stdev: 1.8138357147217055, Second Condition Score Stdev: 1.562049935181331\n"
     ]
    },
    {
     "data": {
      "image/png": "[encoded data removed]",
      "text/plain": [
       "<matplotlib.figure.Figure at 0x1113e6198>"
      ]
     },
     "metadata": {},
     "output_type": "display_data"
    }
   ],
   "source": [
    "m1,m2,s1,s2 = analyzer.printStatistics(subjects_with_prior_experience)\n",
    "plotBarGraph(m1,s1,m2,s2)"
   ]
  },
  {
   "cell_type": "markdown",
   "metadata": {},
   "source": [
    "## Taking SYSEN5400"
   ]
  },
  {
   "cell_type": "code",
   "execution_count": 19,
   "metadata": {
    "collapsed": false
   },
   "outputs": [
    {
     "data": {
      "text/plain": [
       "13"
      ]
     },
     "execution_count": 19,
     "metadata": {},
     "output_type": "execute_result"
    }
   ],
   "source": [
    "subjects_taking_SYSEN5400 = analyzer.filterByDemographics(SYSEN5400=True)\n",
    "len(subjects_taking_SYSEN5400)"
   ]
  },
  {
   "cell_type": "code",
   "execution_count": 20,
   "metadata": {
    "collapsed": false
   },
   "outputs": [
    {
     "name": "stdout",
     "output_type": "stream",
     "text": [
      "First Condition Score Mean: 17.615384615384617, Second Condition Score Mean: 20.923076923076923\n",
      "First Condition Score Stdev: 1.9821690348807885, Second Condition Score Stdev: 1.3846153846153846\n"
     ]
    },
    {
     "data": {
      "image/png": "[encoded data removed]",
      "text/plain": [
       "<matplotlib.figure.Figure at 0x1114fde48>"
      ]
     },
     "metadata": {},
     "output_type": "display_data"
    }
   ],
   "source": [
    "m1,m2,s1,s2 = analyzer.printStatistics(subjects_taking_SYSEN5400)\n",
    "plotBarGraph(m1,s1,m2,s2)"
   ]
  },
  {
   "cell_type": "code",
   "execution_count": 21,
   "metadata": {
    "collapsed": false
   },
   "outputs": [
    {
     "data": {
      "image/png": "[encoded data removed]",
      "text/plain": [
       "<matplotlib.figure.Figure at 0x1111ee400>"
      ]
     },
     "metadata": {},
     "output_type": "display_data"
    }
   ],
   "source": [
    "f1,f2 = analyzer.getScoreData(subjects_taking_SYSEN5400)\n",
    "data = [[str(x),str(y)] for x,y in zip(f1,f2)]\n",
    "writeToFile(data, header=\"First condition, Second condition\")\n",
    "plotECDF(f1,f2)"
   ]
  },
  {
   "cell_type": "markdown",
   "metadata": {
    "collapsed": true
   },
   "source": [
    "## Not taking SYSEN5400"
   ]
  },
  {
   "cell_type": "code",
   "execution_count": 22,
   "metadata": {
    "collapsed": false
   },
   "outputs": [
    {
     "data": {
      "text/plain": [
       "18"
      ]
     },
     "execution_count": 22,
     "metadata": {},
     "output_type": "execute_result"
    }
   ],
   "source": [
    "subjects_not_taking_SYSEN5400 = analyzer.filterByDemographics(NoSYSEN5400=True)\n",
    "len(subjects_not_taking_SYSEN5400)"
   ]
  },
  {
   "cell_type": "code",
   "execution_count": 23,
   "metadata": {
    "collapsed": false
   },
   "outputs": [
    {
     "name": "stdout",
     "output_type": "stream",
     "text": [
      "First Condition Score Mean: 18.666666666666668, Second Condition Score Mean: 17.72222222222222\n",
      "First Condition Score Stdev: 3.265986323710904, Second Condition Score Stdev: 2.3992025424099093\n"
     ]
    },
    {
     "data": {
      "image/png": "[encoded data removed]",
      "text/plain": [
       "<matplotlib.figure.Figure at 0x11155b550>"
      ]
     },
     "metadata": {},
     "output_type": "display_data"
    }
   ],
   "source": [
    "m1,m2,s1,s2 = analyzer.printStatistics(subjects_not_taking_SYSEN5400)\n",
    "plotBarGraph(m1,s1,m2,s2)"
   ]
  },
  {
   "cell_type": "code",
   "execution_count": 24,
   "metadata": {
    "collapsed": false
   },
   "outputs": [
    {
     "data": {
      "image/png": "[encoded data removed]",
      "text/plain": [
       "<matplotlib.figure.Figure at 0x111666c50>"
      ]
     },
     "metadata": {},
     "output_type": "display_data"
    }
   ],
   "source": [
    "f1,f2 = analyzer.getScoreData(subjects_not_taking_SYSEN5400)\n",
    "data = [[str(x),str(y)] for x,y in zip(f1,f2)]\n",
    "writeToFile(data, header=\"First condition, Second condition\")\n",
    "plotECDF(f1,f2)"
   ]
  },
  {
   "cell_type": "markdown",
   "metadata": {
    "collapsed": true
   },
   "source": [
    "## Non STEM Major"
   ]
  },
  {
   "cell_type": "code",
   "execution_count": 25,
   "metadata": {
    "collapsed": false
   },
   "outputs": [
    {
     "data": {
      "text/plain": [
       "7"
      ]
     },
     "execution_count": 25,
     "metadata": {},
     "output_type": "execute_result"
    }
   ],
   "source": [
    "non_STEM_subjects = analyzer.filterByDemographics(NonSTEM=True)\n",
    "len(non_STEM_subjects)"
   ]
  },
  {
   "cell_type": "code",
   "execution_count": 26,
   "metadata": {
    "collapsed": false
   },
   "outputs": [
    {
     "name": "stdout",
     "output_type": "stream",
     "text": [
      "First Condition Score Mean: 16.142857142857142, Second Condition Score Mean: 16.714285714285715\n",
      "First Condition Score Stdev: 2.695423180587601, Second Condition Score Stdev: 2.813959371941744\n"
     ]
    },
    {
     "data": {
      "image/png": "[encoded data removed]",
      "text/plain": [
       "<matplotlib.figure.Figure at 0x111451748>"
      ]
     },
     "metadata": {},
     "output_type": "display_data"
    }
   ],
   "source": [
    "m1,m2,s1,s2 = analyzer.printStatistics(non_STEM_subjects)\n",
    "plotBarGraph(m1,s1,m2,s2)"
   ]
  },
  {
   "cell_type": "code",
   "execution_count": 27,
   "metadata": {
    "collapsed": false
   },
   "outputs": [
    {
     "data": {
      "image/png": "[encoded data removed]",
      "text/plain": [
       "<matplotlib.figure.Figure at 0x111378828>"
      ]
     },
     "metadata": {},
     "output_type": "display_data"
    }
   ],
   "source": [
    "f1,f2 = analyzer.getScoreData(non_STEM_subjects)\n",
    "data = [[str(x),str(y)] for x,y in zip(f1,f2)]\n",
    "writeToFile(data, header=\"First condition, Second condition\")\n",
    "plotECDF(f1,f2)"
   ]
  },
  {
   "cell_type": "code",
   "execution_count": null,
   "metadata": {
    "collapsed": true
   },
   "outputs": [],
   "source": []
  },
  {
   "cell_type": "code",
   "execution_count": null,
   "metadata": {
    "collapsed": true
   },
   "outputs": [],
   "source": []
  },
  {
   "cell_type": "code",
   "execution_count": null,
   "metadata": {
    "collapsed": true
   },
   "outputs": [],
   "source": []
  },
  {
   "cell_type": "code",
   "execution_count": null,
   "metadata": {
    "collapsed": true
   },
   "outputs": [],
   "source": []
  },
  {
   "cell_type": "code",
   "execution_count": 12,
   "metadata": {
    "collapsed": false,
    "scrolled": true
   },
   "outputs": [
    {
     "data": {
      "text/plain": [
       "(array([  1.,   2.,  10.,   3.,   4.,   6.,   2.]),\n",
       " array([ 48.        ,  54.85714286,  61.71428571,  68.57142857,\n",
       "         75.42857143,  82.28571429,  89.14285714,  96.        ]),\n",
       " <a list of 7 Patch objects>)"
      ]
     },
     "execution_count": 12,
     "metadata": {},
     "output_type": "execute_result"
    },
    {
     "data": {
      "image/png": "[encoded data removed]",
      "text/plain": [
       "<matplotlib.figure.Figure at 0x10f743e10>"
      ]
     },
     "metadata": {},
     "output_type": "display_data"
    }
   ],
   "source": [
    "plt.hist(analyzer.first_condition_scores,bins=7)"
   ]
  },
  {
   "cell_type": "code",
   "execution_count": 13,
   "metadata": {
    "collapsed": false
   },
   "outputs": [
    {
     "data": {
      "text/plain": [
       "(array([ 3.,  3.,  4.,  6.,  5.,  3.,  4.]),\n",
       " array([ 60.        ,  64.57142857,  69.14285714,  73.71428571,\n",
       "         78.28571429,  82.85714286,  87.42857143,  92.        ]),\n",
       " <a list of 7 Patch objects>)"
      ]
     },
     "execution_count": 13,
     "metadata": {},
     "output_type": "execute_result"
    },
    {
     "data": {
      "image/png": "[encoded data removed]",
      "text/plain": [
       "<matplotlib.figure.Figure at 0x10f888748>"
      ]
     },
     "metadata": {},
     "output_type": "display_data"
    }
   ],
   "source": [
    "plt.hist(analyzer.second_condition_scores,bins=7)"
   ]
  },
  {
   "cell_type": "code",
   "execution_count": null,
   "metadata": {
    "collapsed": true
   },
   "outputs": [],
   "source": []
  }
 ],
 "metadata": {
  "kernelspec": {
   "display_name": "Python 3",
   "language": "python",
   "name": "python3"
  },
  "language_info": {
   "codemirror_mode": {
    "name": "ipython",
    "version": 3
   },
   "file_extension": ".py",
   "mimetype": "text/x-python",
   "name": "python",
   "nbconvert_exporter": "python",
   "pygments_lexer": "ipython3",
   "version": "3.6.0"
  }
 },
 "nbformat": 4,
 "nbformat_minor": 2
}
